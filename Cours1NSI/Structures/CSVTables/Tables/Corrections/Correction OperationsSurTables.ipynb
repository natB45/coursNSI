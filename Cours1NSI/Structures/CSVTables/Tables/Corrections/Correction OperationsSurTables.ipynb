{
 "cells": [
  {
   "cell_type": "markdown",
   "metadata": {},
   "source": [
    "<h1>Correction sur les Opérations sur les Tables</h1>"
   ]
  },
  {
   "cell_type": "markdown",
   "metadata": {},
   "source": [
    "<h2>1. Rechercher des informations</h2>"
   ]
  },
  {
   "cell_type": "code",
   "execution_count": null,
   "metadata": {},
   "outputs": [],
   "source": [
    "import csv\n",
    "\n",
    "def charger_liste(nom_fic):\n",
    "    \"\"\"\n",
    "    Permet de charger un fichier CSV\n",
    "    paramètre : nom_fic une chaine de caractères contenant le nom du fichier csv\n",
    "    résultat : la liste des enregistrements dans le fichier (une liste de listes)\n",
    "    \"\"\"\n",
    "    liste_enreg = []\n",
    "    with open (nom_fic, \"r\", newline=\"\", encoding = \"utf-8\") as csvfile :\n",
    "    # création du lecteur csv\n",
    "        fich_reader = csv.reader(csvfile, delimiter = \";\")\n",
    "        for enreg in fich_reader :\n",
    "            #enreg est de type list\n",
    "            #Le premier étant l'entête sous forme d'une liste\n",
    "            liste_enreg.append(enreg)\n",
    "    return liste_enreg\n",
    "\n",
    "jo = charger_liste(\"JO_Liste_Medaille_2012-2014.csv\")"
   ]
  },
  {
   "cell_type": "code",
   "execution_count": null,
   "metadata": {},
   "outputs": [],
   "source": [
    "def appartient(nom,table):\n",
    "    for ligne in table:\n",
    "        if ligne[3] == nom:\n",
    "            return True\n",
    "    return False"
   ]
  },
  {
   "cell_type": "code",
   "execution_count": null,
   "metadata": {},
   "outputs": [],
   "source": [
    "appartient(\"LAVILLENIE\",jo)"
   ]
  },
  {
   "cell_type": "code",
   "execution_count": null,
   "metadata": {},
   "outputs": [],
   "source": [
    "appartient(\"NAT\",jo)"
   ]
  },
  {
   "cell_type": "code",
   "execution_count": null,
   "metadata": {},
   "outputs": [],
   "source": [
    "def nombre_medailles(athlete,table):\n",
    "    \"\"\"Donne le nombre de médailles obtenues par l'athlète\n",
    "    paramètres : athlete, une chaine de caractère correspondant au nom de l'athlète\n",
    "    et table, la liste des médaillés aux JO\n",
    "    résultat : un entier égal au nombre de médailles obtenues par l'athlète\"\"\"\n",
    "    nombre_medailles = 0\n",
    "    for ligne in table:\n",
    "        if ligne[3] == athlete:\n",
    "            nombre_medailles += 1\n",
    "    return nombre_medailles"
   ]
  },
  {
   "cell_type": "code",
   "execution_count": null,
   "metadata": {},
   "outputs": [],
   "source": [
    "nombre_medailles(\"LAVILLENIE\",jo)"
   ]
  },
  {
   "cell_type": "code",
   "execution_count": null,
   "metadata": {},
   "outputs": [],
   "source": [
    "nombre_medailles(\"LE FUR\",jo)"
   ]
  },
  {
   "cell_type": "markdown",
   "metadata": {},
   "source": [
    "<h2>2. Sélection des informations</h2>"
   ]
  },
  {
   "cell_type": "code",
   "execution_count": null,
   "metadata": {},
   "outputs": [],
   "source": [
    "def select(table):\n",
    "    new_liste = []\n",
    "    for ligne in table:\n",
    "        if ligne[6] == \"Or\":\n",
    "            new_liste.append(ligne)\n",
    "    return new_liste"
   ]
  },
  {
   "cell_type": "code",
   "execution_count": null,
   "metadata": {},
   "outputs": [],
   "source": [
    "select(jo)"
   ]
  },
  {
   "cell_type": "code",
   "execution_count": null,
   "metadata": {},
   "outputs": [],
   "source": [
    "def select(table):\n",
    "    new_liste = []\n",
    "    for ligne in table:\n",
    "        if ligne[5] == \"F\" and ligne[6] == \"Argent\":\n",
    "            new_liste.append(ligne)\n",
    "    return new_liste"
   ]
  },
  {
   "cell_type": "code",
   "execution_count": null,
   "metadata": {},
   "outputs": [],
   "source": [
    "select(jo)"
   ]
  },
  {
   "cell_type": "markdown",
   "metadata": {},
   "source": [
    "<h2>3. Tri des informations</h2>"
   ]
  },
  {
   "cell_type": "code",
   "execution_count": null,
   "metadata": {},
   "outputs": [],
   "source": [
    "def trier_liste(table):\n",
    "    return sorted(table, key=lambda ligne: ligne[3])  "
   ]
  },
  {
   "cell_type": "code",
   "execution_count": null,
   "metadata": {},
   "outputs": [],
   "source": [
    "trier_liste(jo)"
   ]
  },
  {
   "cell_type": "code",
   "execution_count": null,
   "metadata": {},
   "outputs": [],
   "source": [
    "def trier_liste2(table):\n",
    "    return sorted(table, key=lambda ligne: ligne[4]) \n",
    "trier_liste(jo)"
   ]
  },
  {
   "cell_type": "markdown",
   "metadata": {},
   "source": [
    "<h2>4. Sélection par colonnes</h2>"
   ]
  },
  {
   "cell_type": "code",
   "execution_count": null,
   "metadata": {},
   "outputs": [],
   "source": [
    "def charger_liste_dico(nom_fic):\n",
    "    \"\"\"\n",
    "    Permet de charger un fichier CSV\n",
    "    paramètre : nom_fic une chaine de caractères contenant le nom du fichier csv, sans son extension\n",
    "    résultat : la liste de tous les enregistrements du fichier (une liste de dictionnaires)\n",
    "    \"\"\"\n",
    "    table = []\n",
    "    # ouverture du fichier CSV\n",
    "    with open(nom_fic+\".csv\",\"r\", newline=\"\", encoding = \"utf-8\") as csvfile :\n",
    "        # création du lecteur csv indiquant le caractère séparateur\n",
    "        # la ligne d'entête est utilisée pour créer les clés des dicitonnaires\n",
    "        element_reader = csv.DictReader(csvfile, delimiter = \",\")\n",
    "        for enreg in element_reader :\n",
    "        # enreg est une liste de str contenant chaque champ de l'enregistrement\n",
    "        # ajout de l'enregistrement dans la liste sous forme d'un dictionnaire\n",
    "            table.append(dict(enreg))\n",
    "    return table"
   ]
  },
  {
   "cell_type": "code",
   "execution_count": null,
   "metadata": {},
   "outputs": [],
   "source": [
    "heros = charger_liste_dico(\"superHeros\")"
   ]
  },
  {
   "cell_type": "code",
   "execution_count": null,
   "metadata": {},
   "outputs": [],
   "source": [
    "def extraire(table):\n",
    "    new_heros =[]\n",
    "    for dico in table:\n",
    "        new_heros.append({\"Nom\" : dico[\"Nom\"], \"Pseudo\" : dico[\"Pseudo\"]})\n",
    "    return new_heros"
   ]
  },
  {
   "cell_type": "code",
   "execution_count": null,
   "metadata": {},
   "outputs": [],
   "source": [
    "extraire(heros)"
   ]
  },
  {
   "cell_type": "code",
   "execution_count": null,
   "metadata": {},
   "outputs": [],
   "source": [
    "def extraire2(table,liste_cles):\n",
    "    new_heros =[]\n",
    "    for dico in table:\n",
    "        new_dico = {cle : dico[cle] for cle in dico if cle in liste_cles}\n",
    "        new_heros.append(new_dico)\n",
    "    return new_heros"
   ]
  },
  {
   "cell_type": "code",
   "execution_count": null,
   "metadata": {},
   "outputs": [],
   "source": [
    "extraire2(heros,[\"Nom\",\"Année_apparition\"])"
   ]
  },
  {
   "cell_type": "markdown",
   "metadata": {},
   "source": [
    "<h2>5. Fusion de listes</h2>"
   ]
  },
  {
   "cell_type": "markdown",
   "metadata": {},
   "source": [
    "<h3>a) Tables possédant la même structure :</h3>"
   ]
  },
  {
   "cell_type": "code",
   "execution_count": null,
   "metadata": {},
   "outputs": [],
   "source": [
    "heroines = charger_liste_dico(\"superHeroines\")"
   ]
  },
  {
   "cell_type": "code",
   "execution_count": null,
   "metadata": {},
   "outputs": [],
   "source": [
    "def fusion_listes_memes_champs(tab1,tab2):\n",
    "    \"\"\"Fusion de tables identiques\n",
    "    paramètres : les deux tables à fusionner (liste de dictionnaires)\n",
    "    sortie : nouvelle liste constitué des deux autres\"\"\"\n",
    "    return tab1+tab2"
   ]
  },
  {
   "cell_type": "code",
   "execution_count": null,
   "metadata": {},
   "outputs": [],
   "source": [
    "fusion_listes_memes_champs(heros,heroines)"
   ]
  },
  {
   "cell_type": "markdown",
   "metadata": {},
   "source": [
    "*Remarque :* Dans le cas où la fusion des listes entraine des doublons, on va chercher à les supprimer."
   ]
  },
  {
   "cell_type": "code",
   "execution_count": null,
   "metadata": {},
   "outputs": [],
   "source": [
    "def recherche_doublons(tab):\n",
    "    \"\"\"Rechercher d'éventuels doublons et les supprimer\n",
    "    paramètre : tab, une liste de dictionnaires\n",
    "    sortie : une liste sans doublons\"\"\"\n",
    "    for i in range(len(tab)):\n",
    "        present = False\n",
    "        for j in range(i+1,len(tab)):\n",
    "            if tab[i][\"nom\"] == tab[j][\"nom\"]:\n",
    "                present = True\n",
    "        if present == True:\n",
    "            tab.remove(tab[i])\n",
    "    return tab"
   ]
  },
  {
   "cell_type": "code",
   "execution_count": null,
   "metadata": {},
   "outputs": [],
   "source": [
    "liste=[{\"nom\":\"bubulle\",\"categorie\":\"élève\",\"age\":15},{\"nom\":\"nat\",\"categorie\":\"alien\",\"age\":18},\n",
    "       {\"nom\":\"bubulle\",\"categorie\":\"élève\",\"age\":15},{\"nom\":\"nat\",\"categorie\":\"alien\",\"age\":18},\n",
    "       {\"nom\":\"nat\",\"categorie\":\"vivante\",\"age\":18},{\"nom\":\"toto\",\"categorie\":\"singe\",\"age\":25}]"
   ]
  },
  {
   "cell_type": "code",
   "execution_count": null,
   "metadata": {},
   "outputs": [],
   "source": [
    "liste_essai = list(liste) #on copie la liste dans une nouvelle liste pour la modifier"
   ]
  },
  {
   "cell_type": "code",
   "execution_count": null,
   "metadata": {},
   "outputs": [],
   "source": [
    "recherche_doublons(liste_essai)"
   ]
  },
  {
   "cell_type": "code",
   "execution_count": null,
   "metadata": {},
   "outputs": [],
   "source": [
    "#Problème si l'élément est présent plus de 2 fois !"
   ]
  },
  {
   "cell_type": "markdown",
   "metadata": {},
   "source": [
    "<h3>b) Tables ayant des attributs différents, mais au moins un attribut en commun :</h3>"
   ]
  },
  {
   "cell_type": "code",
   "execution_count": null,
   "metadata": {},
   "outputs": [],
   "source": [
    "liste_eleves = [{\"nom\" : \"Dupond\", \"prénom\" : \"Jacques\", \"age\" : 16},\n",
    "                {\"nom\" : \"Bourgeois\", \"prénom\" : \"Nicolas\", \"age\" : 16},\n",
    "                {\"nom\" : \"Etoile\", \"prénom\" : \"Caroline\", \"age\" : 17},\n",
    "                {\"nom\" : \"Trunc\", \"prénom\" : \"Jessie\", \"age\" : 15},\n",
    "                {\"nom\" : \"Kennedy\", \"prénom\" : \"Maelle\", \"age\" : 16}]\n",
    "liste_notes = [{\"nom\" : \"Dupond\", \"prénom\" : \"Jacques\", \"maths\" : 12, \"français\" : 9},\n",
    "                {\"nom\" : \"Bourgeois\", \"prénom\" : \"Nicolas\",  \"maths\" : 19, \"français\" : 7},\n",
    "                {\"nom\" : \"Etoile\", \"prénom\" : \"Caroline\", \"maths\" : 12, \"français\" : 9},\n",
    "                {\"nom\" : \"Trunc\", \"prénom\" : \"Jessie\", \"maths\" : 5, \"français\" : 12},\n",
    "                {\"nom\" : \"Kennedy\", \"prénom\" : \"Maelle\",  \"maths\" : 10, \"français\" : 17}]"
   ]
  },
  {
   "cell_type": "code",
   "execution_count": null,
   "metadata": {},
   "outputs": [],
   "source": [
    "def creation_fusion(enreg1,enreg2):\n",
    "    \"\"\"Fonction créant un dictionnaire eleve avec tous les champs de la fusion\n",
    "    paramètres : enreg1 et enreg2 sont des éléments des deux tables à fusionner ;\n",
    "    sortie : on retourne le dictionnaire complet représentant l'élève.\"\"\"\n",
    "    return {\"nom\" : enreg1[\"nom\"], \"prénom\" : enreg1[\"prénom\"], \"age\" : enreg1[\"age\"],\n",
    "            \"maths\" : enreg2[\"maths\"], \"Français\" : enreg2[\"français\"]}\n",
    "\n",
    "def fusion(tab1,tab2):\n",
    "    tableau_complet = []\n",
    "    for dico1 in tab1:\n",
    "        for dico2 in tab2:\n",
    "            if dico1[\"nom\"] == dico2[\"nom\"]:\n",
    "                tableau_complet.append(creation_fusion(dico1,dico2))\n",
    "    return tableau_complet\n",
    "    "
   ]
  },
  {
   "cell_type": "code",
   "execution_count": null,
   "metadata": {},
   "outputs": [],
   "source": [
    "fusion(liste_eleves,liste_notes)"
   ]
  },
  {
   "cell_type": "code",
   "execution_count": null,
   "metadata": {},
   "outputs": [],
   "source": []
  }
 ],
 "metadata": {
  "kernelspec": {
   "display_name": "Python 3",
   "language": "python",
   "name": "python3"
  },
  "language_info": {
   "codemirror_mode": {
    "name": "ipython",
    "version": 3
   },
   "file_extension": ".py",
   "mimetype": "text/x-python",
   "name": "python",
   "nbconvert_exporter": "python",
   "pygments_lexer": "ipython3",
   "version": "3.7.6"
  }
 },
 "nbformat": 4,
 "nbformat_minor": 2
}
