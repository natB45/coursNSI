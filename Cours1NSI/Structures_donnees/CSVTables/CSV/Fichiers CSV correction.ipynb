{
 "cells": [
  {
   "cell_type": "code",
   "execution_count": null,
   "metadata": {},
   "outputs": [],
   "source": [
    "import csv"
   ]
  },
  {
   "cell_type": "code",
   "execution_count": null,
   "metadata": {},
   "outputs": [],
   "source": [
    "def charger_liste_dico3(nom_fic):\n",
    "    \"\"\"\n",
    "    Permet de charger un fichier CSV\n",
    "    paramètre : nom_fic une chaine de caractères contenant le nom du fichier csv, sans son extension\n",
    "    résultat : la liste d'une partie des enregistrements du fichier (une liste de dictionnaires)\n",
    "    \"\"\"\n",
    "    super_heros = []\n",
    "    # ouverture du fichier CSV\n",
    "    with open(nom_fic+\".csv\",\"r\", newline=\"\", encoding = \"utf-8\") as csvfile :\n",
    "        # création du lecteur csv indiquant le caractère séparateur\n",
    "        persos_reader = csv.reader(csvfile, delimiter = \",\")\n",
    "        # permet de sauter la ligne d'entête si on n'en a pas besoin\n",
    "        persos_reader.__next__ ()\n",
    "        for enreg in persos_reader : # boucle de parcours des enregistrements\n",
    "            #on indique les éléments de l'enregistrement que l'on souhaite garder\n",
    "            super_heros.append({\"Surnom\" : enreg[2], \"Yeux\" : enreg[4], \"Cheveux\" : enreg[5]})\n",
    "    return super_heros"
   ]
  },
  {
   "cell_type": "code",
   "execution_count": null,
   "metadata": {},
   "outputs": [],
   "source": [
    "charger_liste_dico3(\"superHeros\")"
   ]
  },
  {
   "cell_type": "code",
   "execution_count": null,
   "metadata": {},
   "outputs": [],
   "source": [
    "def valider_liste(liste_dico):\n",
    "    for i in range(len(liste_dico)):\n",
    "        liste_dico[i]['identifiant']=int(liste_dico[i]['identifiant'])\n",
    "        liste_dico[i]['année_apparition']=int(liste_dico[i]['année_apparition'])\n",
    "    return liste_dico"
   ]
  },
  {
   "cell_type": "code",
   "execution_count": null,
   "metadata": {},
   "outputs": [],
   "source": [
    "animaux = [[\"chien\",\"Dusty\",1],[\"chienne\",\"Sookie\",2],[\"Chat\",\"Twist\",3],[\"Chatte\",\"Daysie\",1.5]]\n",
    "\n",
    "#sauver_donnees(\"anim2.csv\",animaux,[\"Race\",\"Nom\",\"age\"])"
   ]
  },
  {
   "cell_type": "code",
   "execution_count": 1,
   "metadata": {},
   "outputs": [],
   "source": [
    "notes = [{\"nom\" : \"nat\", \"maths\" : 14, \"phys\" : 19, \"anglais\" : 9},\n",
    "         {\"nom\" : \"john\", \"maths\" : 18, \"phys\" : 13, \"anglais\" : 12},\n",
    "         {\"nom\" : \"lili\", \"maths\" : 8, \"phys\" : 10, \"anglais\" : 15}]\n",
    "#sauver_donnees2(\"MesNotes.csv\", notes)"
   ]
  },
  {
   "cell_type": "code",
   "execution_count": null,
   "metadata": {},
   "outputs": [],
   "source": []
  }
 ],
 "metadata": {
  "kernelspec": {
   "display_name": "Python 3",
   "language": "python",
   "name": "python3"
  },
  "language_info": {
   "codemirror_mode": {
    "name": "ipython",
    "version": 3
   },
   "file_extension": ".py",
   "mimetype": "text/x-python",
   "name": "python",
   "nbconvert_exporter": "python",
   "pygments_lexer": "ipython3",
   "version": "3.7.4"
  }
 },
 "nbformat": 4,
 "nbformat_minor": 2
}
