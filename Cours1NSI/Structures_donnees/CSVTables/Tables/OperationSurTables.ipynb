{
 "cells": [
  {
   "cell_type": "markdown",
   "metadata": {},
   "source": [
    "<center><h1>Opérations sur les tables</h1></center>"
   ]
  },
  {
   "cell_type": "markdown",
   "metadata": {},
   "source": [
    "<h2>1. Rechercher des informations</h2>"
   ]
  },
  {
   "cell_type": "markdown",
   "metadata": {},
   "source": [
    "Chargez le fichier **JO_Liste_Medaille_2012_2014.csv** dans une liste de listes, nommée medailles.\n",
    "\n",
    "*Remarque :* Il faudra vérifier le séparateur utilisé dans le fichier csv."
   ]
  },
  {
   "cell_type": "code",
   "execution_count": null,
   "metadata": {},
   "outputs": [],
   "source": [
    "#chargement du fichier"
   ]
  },
  {
   "cell_type": "markdown",
   "metadata": {},
   "source": [
    "Pour savoir si un athlète Français a eu ou non une médaille aux Jeux Olympiques entre 2012 et 2014, on utilise la  fonction **appartient()** ci-dessous qui répond à cette question sous la forme d'un booléen. "
   ]
  },
  {
   "cell_type": "code",
   "execution_count": null,
   "metadata": {},
   "outputs": [],
   "source": [
    "def appartient(nom,table):\n",
    "    for ligne in table:\n",
    "        if ligne[3] == nom:\n",
    "            return True\n",
    "    return False"
   ]
  },
  {
   "cell_type": "markdown",
   "metadata": {},
   "source": [
    "Testez cette fonction, puis modifiez-la pour connaître le nombre de médailles obtenues par un athlète."
   ]
  },
  {
   "cell_type": "code",
   "execution_count": null,
   "metadata": {},
   "outputs": [],
   "source": [
    "#Testez le code"
   ]
  },
  {
   "cell_type": "code",
   "execution_count": null,
   "metadata": {},
   "outputs": [],
   "source": [
    "def nombre_medailles():\n",
    "    pass   #complétez le code"
   ]
  },
  {
   "cell_type": "markdown",
   "metadata": {},
   "source": [
    "<h2>2. Sélection des informations</h2>"
   ]
  },
  {
   "cell_type": "markdown",
   "metadata": {},
   "source": [
    "On souhaite maintenant extraire de notre liste, une liste ne comportant que les athlètes ayant obtenu une médaille d'or."
   ]
  },
  {
   "cell_type": "code",
   "execution_count": null,
   "metadata": {},
   "outputs": [],
   "source": [
    "def select(table):\n",
    "    new_liste = []\n",
    "    for ligne in table:\n",
    "        if ligne[6] == \"Or\":\n",
    "            new_liste.append(ligne)\n",
    "    return new_liste"
   ]
  },
  {
   "cell_type": "code",
   "execution_count": null,
   "metadata": {},
   "outputs": [],
   "source": [
    "#Testez le code"
   ]
  },
  {
   "cell_type": "markdown",
   "metadata": {},
   "source": [
    "Créez une liste comportant les femmes ayant obtenues une médaille d'argent aux JO."
   ]
  },
  {
   "cell_type": "code",
   "execution_count": null,
   "metadata": {},
   "outputs": [],
   "source": [
    "#code"
   ]
  },
  {
   "cell_type": "markdown",
   "metadata": {},
   "source": [
    "<h2>3. Tri des informations</h2>"
   ]
  },
  {
   "cell_type": "markdown",
   "metadata": {},
   "source": [
    "On peut trier les listes avec la méthode sorted(). On va utiliser les indices des objets contenus dans la liste en tant que clef du tri.\n",
    "\n",
    "Ci-dessous, la fonction **trier_table()** tri la liste suivant le nom de l'athlète."
   ]
  },
  {
   "cell_type": "code",
   "execution_count": null,
   "metadata": {},
   "outputs": [],
   "source": [
    "def trier_liste(table):\n",
    "    return sorted(table, key=lambda ligne: ligne[3])  "
   ]
  },
  {
   "cell_type": "code",
   "execution_count": null,
   "metadata": {},
   "outputs": [],
   "source": [
    "#Testez le code"
   ]
  },
  {
   "cell_type": "markdown",
   "metadata": {},
   "source": [
    "*Remarque :* On peut trier nos listes dans l'odre décroissant en rajoutant le paramètre **reverse=True** dans la fonction Sorted()."
   ]
  },
  {
   "cell_type": "markdown",
   "metadata": {},
   "source": [
    "Modifiez la fonction de tri pour trier la liste des médaillés suivant leurs prénoms."
   ]
  },
  {
   "cell_type": "code",
   "execution_count": null,
   "metadata": {},
   "outputs": [],
   "source": [
    "#code"
   ]
  },
  {
   "cell_type": "markdown",
   "metadata": {},
   "source": [
    "<h2>4. Sélection par colonnes</h2>"
   ]
  },
  {
   "cell_type": "markdown",
   "metadata": {},
   "source": [
    "Chargez le fichier **superHeros.csv** dans une liste de dictionnaires, nommée heros."
   ]
  },
  {
   "cell_type": "code",
   "execution_count": null,
   "metadata": {},
   "outputs": [],
   "source": [
    "#code"
   ]
  },
  {
   "cell_type": "markdown",
   "metadata": {},
   "source": [
    "On veut créer une nouvelle liste ne comportant que le nom et le pseudo du super-héro. Pour cela, complétez le code ci-dessous :"
   ]
  },
  {
   "cell_type": "code",
   "execution_count": null,
   "metadata": {},
   "outputs": [],
   "source": [
    "def extraire(table):\n",
    "    pass"
   ]
  },
  {
   "cell_type": "markdown",
   "metadata": {},
   "source": [
    "<h2>5. Fusion de listes</h2>"
   ]
  },
  {
   "cell_type": "markdown",
   "metadata": {},
   "source": [
    "On peut se retrouver à travailler sur plusieurs jeux de données en même temps. Il peut alors être nécessaire de **combiner ces données dans une seule table**. C'est ce qu'on appelle la **fusion**."
   ]
  },
  {
   "cell_type": "markdown",
   "metadata": {},
   "source": [
    "<h3>a) Tables possédant la même structure :</h3>"
   ]
  },
  {
   "cell_type": "markdown",
   "metadata": {},
   "source": [
    "1. Chargez le fichier **superHeroines.csv** dans une liste nommée **heroines**.\n",
    "2. Ecrivez une fonction **fusion_listes_memes_champs()** qui regroupe les données des fichiers **heros** et **heroines**."
   ]
  },
  {
   "cell_type": "code",
   "execution_count": null,
   "metadata": {},
   "outputs": [],
   "source": [
    "#liste heroines\n",
    "\n",
    "#fonction\n",
    "def fusion_listes_memes_champs():\n",
    "    pass"
   ]
  },
  {
   "cell_type": "markdown",
   "metadata": {},
   "source": [
    "<h3>b) Tables ayant des attributs différents, mais au moins un attribut en commun :</h3>"
   ]
  },
  {
   "cell_type": "markdown",
   "metadata": {},
   "source": [
    "On souhaite maintenant fusionner deux tables comportant **au moins un champ commun**.\n",
    "\n",
    "Par exemple on donne un premier tableau comportant des informations sur des élèves, puis une seconde table avec leurs notes de Maths et de Français. On veut obtenir une seule table comportant toutes les informations des élèves.\n"
   ]
  },
  {
   "cell_type": "code",
   "execution_count": null,
   "metadata": {},
   "outputs": [],
   "source": [
    "liste_eleves = [{\"nom\" : \"Dupond\", \"prénom\" : \"Jacques\", \"age\" : 16},\n",
    "                {\"nom\" : \"Bourgeois\", \"prénom\" : \"Nicolas\", \"age\" : 16},\n",
    "                {\"nom\" : \"Etoile\", \"prénom\" : \"Caroline\", \"age\" : 17},\n",
    "                {\"nom\" : \"Trunc\", \"prénom\" : \"Jessie\", \"age\" : 15},\n",
    "                {\"nom\" : \"Kennedy\", \"prénom\" : \"Maelle\", \"age\" : 16}]\n",
    "liste_notes = [{\"nom\" : \"Dupond\", \"prénom\" : \"Jacques\", \"maths\" : 12, \"français\" : 9},\n",
    "                {\"nom\" : \"Bourgeois\", \"prénom\" : \"Nicolas\",  \"maths\" : 19, \"français\" : 7},\n",
    "                {\"nom\" : \"Etoile\", \"prénom\" : \"Caroline\", \"maths\" : 12, \"français\" : 9},\n",
    "                {\"nom\" : \"Trunc\", \"prénom\" : \"Jessie\", \"maths\" : 5, \"français\" : 12},\n",
    "                {\"nom\" : \"Kennedy\", \"prénom\" : \"Maelle\",  \"maths\" : 10, \"français\" : 17}]"
   ]
  },
  {
   "cell_type": "code",
   "execution_count": null,
   "metadata": {},
   "outputs": [],
   "source": [
    "def creation_fusion(enreg1,enreg2):\n",
    "    \"\"\"Fonction créant un dictionnaire eleve avec tous les champs de la fusion\n",
    "    paramètres : enreg1 et enreg2 sont des éléments des deux tables à fusionner ;\n",
    "    sortie : on retourne le dictionnaire complet représentant l'élève.\"\"\"\n",
    "    return {\"nom\" : enreg1[\"nom\"], \"prénom\" : enreg1[\"prénom\"], \"age\" : enreg1[\"age\"],\n",
    "            \"maths\" : enreg2[\"maths\"], \"Français\" : enreg2[\"français\"]}\n",
    "\n",
    "def fusion(tab1,tab2):\n",
    "    tableau_complet = []\n",
    "    for dico1 in tab1:\n",
    "        for dico2 in tab2:\n",
    "            if dico1[\"nom\"] == dico2[\"nom\"]:\n",
    "                tableau_complet.append(creation_fusion(dico1,dico2))\n",
    "    return tableau_complet\n",
    "    "
   ]
  },
  {
   "cell_type": "code",
   "execution_count": null,
   "metadata": {},
   "outputs": [],
   "source": [
    "#Testez la fonction fusion sur les listes élèves et notes"
   ]
  }
 ],
 "metadata": {
  "kernelspec": {
   "display_name": "Python 3",
   "language": "python",
   "name": "python3"
  },
  "language_info": {
   "codemirror_mode": {
    "name": "ipython",
    "version": 3
   },
   "file_extension": ".py",
   "mimetype": "text/x-python",
   "name": "python",
   "nbconvert_exporter": "python",
   "pygments_lexer": "ipython3",
   "version": "3.7.6"
  }
 },
 "nbformat": 4,
 "nbformat_minor": 2
}
