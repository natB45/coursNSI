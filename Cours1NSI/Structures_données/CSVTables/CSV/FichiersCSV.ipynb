{
 "cells": [
  {
   "cell_type": "markdown",
   "metadata": {},
   "source": [
    "<center><h1>Fichiers CSV</h1></center>"
   ]
  },
  {
   "cell_type": "markdown",
   "metadata": {},
   "source": [
    "\n",
    "Un moyen simple de sauvegarder et recharger des **données de type table** est l'utilisation de\n",
    "fichiers texte de **CSV** (*Comma Separated Values*). \n",
    "\n",
    "Dans un tel fichier, chaque ligne représente un **enregistrement**.\n",
    "\n",
    " Les différentes valeurs de l'enregistrement sont séparées par un **séparateur** (le point-virgule \";\" ou la virgule \",\" par exemple).\n",
    " \n",
    " Souvent la première ligne est une **entête** permettant de savoir à quoi correspond chaque information des enregistrements. \n",
    " \n",
    " On peut noter qu'aucune indication de **typage** des informations n'est donnée dans le fichier.\n",
    " \n",
    " Un tel fichier se présente sous la forme suivante :\n",
    "\n",
    "|Villes |;| Pays |\n",
    "|--------|--|-------|\n",
    "|Orleans|;| France\n",
    "|New-York |;| USA|\n",
    "|Londres |;|Angleterre|\n",
    "\n",
    "\n",
    "\n",
    "Python propose une **bibliothèque**, appelée **csv**, permettant de simplifier la lecture et l'écriture d'un fichier CSV. \n"
   ]
  },
  {
   "cell_type": "markdown",
   "metadata": {},
   "source": [
    "<h2>1. Lecture d'un fichier CSV</h2>"
   ]
  },
  {
   "cell_type": "code",
   "execution_count": null,
   "metadata": {},
   "outputs": [],
   "source": [
    "import csv"
   ]
  },
  {
   "cell_type": "markdown",
   "metadata": {},
   "source": [
    "<h3>a) Liste de listes</h3>"
   ]
  },
  {
   "cell_type": "code",
   "execution_count": null,
   "metadata": {},
   "outputs": [],
   "source": [
    "#Liste de listes d'enregistrements\n",
    "def charger_liste(nom_fic):\n",
    "    \"\"\"\n",
    "    Permet de charger un fichier CSV\n",
    "    paramètre : nom_fic une chaine de caractères contenant le nom du fichier csv\n",
    "    résultat : la liste des enregistrements dans le fichier (une liste de listes)\n",
    "    \"\"\"\n",
    "    liste_enreg = []\n",
    "    with open (nom_fic, \"r\", newline=\"\", encoding = \"utf-8\") as csvfile :\n",
    "    # création du lecteur csv\n",
    "        fich_reader = csv.reader(csvfile, delimiter = \",\")\n",
    "        for enreg in fich_reader :\n",
    "            #enreg est de type list\n",
    "            #Le premier étant l'entête sous forme d'une liste\n",
    "            liste_enreg.append(enreg)\n",
    "    return liste_enreg"
   ]
  },
  {
   "cell_type": "code",
   "execution_count": null,
   "metadata": {},
   "outputs": [],
   "source": [
    "#Testez cette fonction avec le fichier superHeros.csv"
   ]
  },
  {
   "cell_type": "markdown",
   "metadata": {},
   "source": [
    "1. A quoi correspond la ligne 8 : **liste_enreg = []** ?\n",
    "\n",
    "2. Que veut dire le **\"r\"** de la ligne 9 ?\n",
    "\n",
    "3. Expliquez le **delimiter = \",\"** de la ligne 11.\n",
    "\n",
    "4. Que permet de faire la ligne 15 : **liste_enreg.append(enreg)** ?\n",
    "\n",
    "    "
   ]
  },
  {
   "cell_type": "markdown",
   "metadata": {},
   "source": [
    "<h3>b) Liste de dictionnaires</h3>"
   ]
  },
  {
   "cell_type": "code",
   "execution_count": null,
   "metadata": {},
   "outputs": [],
   "source": [
    "#Liste de dictionnaires : ici tous les champs sont conservés\n",
    "def charger_liste_dico(nom_fic):\n",
    "    \"\"\"\n",
    "    Permet de charger un fichier CSV\n",
    "    paramètre : nom_fic une chaine de caractères contenant le nom du fichier csv, sans son extension\n",
    "    résultat : la liste de tous les enregistrements du fichier (une liste de dictionnaires)\n",
    "    \"\"\"\n",
    "    table = []\n",
    "    # ouverture du fichier CSV\n",
    "    with open(nom_fic+\".csv\",\"r\", newline=\"\", encoding = \"utf-8\") as csvfile :\n",
    "        # création du lecteur csv indiquant le caractère séparateur\n",
    "        # la ligne d'entête est utilisée pour créer les clés des dicitonnaires\n",
    "        element_reader = csv.DictReader(csvfile, delimiter = \",\")\n",
    "        for enreg in element_reader : \n",
    "        # enreg est une liste de str contenant chaque champ de l'enregistrement\n",
    "        # ajout de l'enregistrement dans la liste sous forme d'un dictionnaire\n",
    "            table.append(dict(enreg))\n",
    "    return table"
   ]
  },
  {
   "cell_type": "code",
   "execution_count": null,
   "metadata": {},
   "outputs": [],
   "source": [
    "#Testez cette fonction avec le fichier superHeros.csv"
   ]
  },
  {
   "cell_type": "markdown",
   "metadata": {},
   "source": [
    "*Remarque :* On peut choisir de ne garder que *certains champs* du fichier.\n",
    "\n",
    "Par exemple, dans le fichier **supersHeros**, on ne prendra que le nom, le surnom et l'année d'apparition du personnage."
   ]
  },
  {
   "cell_type": "code",
   "execution_count": null,
   "metadata": {},
   "outputs": [],
   "source": [
    "#Liste de dictionnaires : ici on choisit de ne garder que certains champs\n",
    "def charger_liste_dico2(nom_fic):\n",
    "    \"\"\"\n",
    "    Permet de charger un fichier CSV\n",
    "    paramètre : nom_fic une chaine de caractères contenant le nom du fichier csv, sans son extension\n",
    "    résultat : la liste d'une partie des enregistrements du fichier (une liste de dictionnaires)\n",
    "    \"\"\"\n",
    "    super_heros = []\n",
    "    # ouverture du fichier CSV\n",
    "    with open(nom_fic+\".csv\",\"r\", newline=\"\", encoding = \"utf-8\") as csvfile :\n",
    "        # création du lecteur csv indiquant le caractère séparateur\n",
    "        persos_reader = csv.reader(csvfile, delimiter = \",\")\n",
    "        # permet de sauter la ligne d'entête si on n'en a pas besoin\n",
    "        persos_reader.__next__ ()\n",
    "        for enreg in persos_reader : # boucle de parcours des enregistrements\n",
    "            #on indique les éléments de l'enregistrement que l'on souhaite garder\n",
    "            super_heros.append({\"Nom\" : enreg [1], \"Surnom\" : enreg[2], \"Année Apparition\" : enreg[7]})\n",
    "    return super_heros\n"
   ]
  },
  {
   "cell_type": "code",
   "execution_count": null,
   "metadata": {},
   "outputs": [],
   "source": [
    "#Testez cette fonction avec le fichier superHeros.csv"
   ]
  },
  {
   "cell_type": "markdown",
   "metadata": {},
   "source": [
    "<h3>c) Validation des données</h3>"
   ]
  },
  {
   "cell_type": "markdown",
   "metadata": {},
   "source": [
    "Les données ainsi chargées ne sont pas typées ; elles sont **par défaut de type chaine de caractères (str)**.\n",
    "Or pour travailler avec les données par la suite, il est nécessaire d'**indiquer le type des champs**."
   ]
  },
  {
   "cell_type": "code",
   "execution_count": null,
   "metadata": {},
   "outputs": [],
   "source": [
    "liste_heros = charger_liste_dico(\"superHeros\")"
   ]
  },
  {
   "cell_type": "code",
   "execution_count": null,
   "metadata": {},
   "outputs": [],
   "source": [
    "print(liste_heros,end=\"\")"
   ]
  },
  {
   "cell_type": "markdown",
   "metadata": {},
   "source": [
    "Créez une fonction permettant de transformer le type des champs \"identifiant\" et \"année_apparition\" :"
   ]
  },
  {
   "cell_type": "code",
   "execution_count": null,
   "metadata": {},
   "outputs": [],
   "source": [
    "def valider_liste(liste_dico):\n",
    "    pass     #compléter le code"
   ]
  },
  {
   "cell_type": "code",
   "execution_count": null,
   "metadata": {},
   "outputs": [],
   "source": [
    "#valider_liste(liste_heros)"
   ]
  },
  {
   "cell_type": "markdown",
   "metadata": {},
   "source": [
    "<h2>2. Sauvegarder un fichier au format CSV</h2>"
   ]
  },
  {
   "cell_type": "markdown",
   "metadata": {},
   "source": [
    "Une fois que l'on a travaillé sur des données, on va les sauvegarder dans un fichier csv."
   ]
  },
  {
   "cell_type": "markdown",
   "metadata": {},
   "source": [
    "Pour cela on utilisera l'une des fonctions suivantes :    "
   ]
  },
  {
   "cell_type": "code",
   "execution_count": null,
   "metadata": {},
   "outputs": [],
   "source": [
    "def sauver_donnees(nom_fic, tab, entetes):\n",
    "    \"\"\"\n",
    "    Permet de sauvegarder une liste de listes dans un fichier CSV\n",
    "    paramètres :\n",
    "    nom_fic : nom du fichier csv que l'on va créer, sous la forme \"nom.csv\"\n",
    "    tab : liste de listes\n",
    "    entetes est une liste de noms pour les champs du fichier\n",
    "    resultat : aucun\n",
    "    \"\"\"\n",
    "    # ouverture du fichier CSV en mode écriture\n",
    "    with open(nom_fic, \"w\", newline =\"\", encoding = \"utf-8\") as csvfile:\n",
    "        # création du lecteur csv indiquant le caractère séparateur\n",
    "        liste_writer = csv.writer(csvfile, delimiter = \";\")\n",
    "        # permet d'écrire la ligne d'entête\n",
    "        liste_writer.writerow(entetes)\n",
    "        for ligne in tab : # boucle de parcours de la liste\n",
    "            # ligne est une liste du tableau\n",
    "            liste_writer.writerow([ligne[i] for i in range(len(ligne))])\n",
    "    return None"
   ]
  },
  {
   "cell_type": "markdown",
   "metadata": {},
   "source": [
    "<ol>\n",
    "    <li>Créez une liste de listes, sur le thème de votre choix.</li>\n",
    "    <li>Puis testez la fonction sauver_données() avec votre liste.</li>\n",
    "    <li>Vérifiez qu'un fichier csv est apparu dans votre dossier et ouvrez-le avec Visual studio Code pour vérifer son contenu.</li>\n",
    "</ol>"
   ]
  },
  {
   "cell_type": "code",
   "execution_count": null,
   "metadata": {},
   "outputs": [],
   "source": [
    "#Création de la liste de listes\n",
    "\n",
    "#Test de la fonction\n"
   ]
  },
  {
   "cell_type": "markdown",
   "metadata": {},
   "source": [
    "La fonction **sauver_donnees2()** permet de sauvegarder une liste de dictionnaires dans un fichier csv."
   ]
  },
  {
   "cell_type": "code",
   "execution_count": null,
   "metadata": {},
   "outputs": [],
   "source": [
    "def sauver_donnees2(nom_fic, tab):\n",
    "    \"\"\"\n",
    "    Permet de sauvegarder une liste de dictionnaires dans un fichier CSV\n",
    "    paramètres :\n",
    "    nom_fic : nom du fichier csv que l'on va créer, sous la forme \"nom.csv\"\n",
    "    tab : liste de dictionnaires\n",
    "    resultat : aucun\n",
    "    \"\"\"\n",
    "    with open(nom_fic, \"w\", newline =\"\", encoding = \"utf-8\") as csvfile:\n",
    "        # création du lecteur csv indiquant le caractère séparateur\n",
    "        #fieldnames permet d'écrire la ligne d'entête avec les clés pour nom de champs\n",
    "        liste_writer = csv.DictWriter(csvfile, fieldnames=tab[0].keys(), delimiter = \";\")\n",
    "        #on écrit la ligne d'entête\n",
    "        liste_writer.writeheader()\n",
    "        for dico in tab : \n",
    "            # dico est un dictionnaire du tableau\n",
    "            liste_writer.writerow(dico)\n",
    "    return None"
   ]
  },
  {
   "cell_type": "markdown",
   "metadata": {},
   "source": [
    "<ol>\n",
    "    <li>Créez une liste de dictionnaires, sur le thème de votre choix.</li>\n",
    "    <li>Puis testez la fonction sauver_données2() avec votre liste.</li>\n",
    "    <li>Vérifiez qu'un fichier csv est apparu dans votre dossier et ouvrez-le avec Visual studio Code pour vérifer son contenu.</li>\n",
    "</ol>"
   ]
  },
  {
   "cell_type": "code",
   "execution_count": null,
   "metadata": {},
   "outputs": [],
   "source": [
    "#Création d'une liste de dictionnaires\n",
    "\n",
    "#Test de la fonction\n"
   ]
  }
 ],
 "metadata": {
  "kernelspec": {
   "display_name": "Python 3",
   "language": "python",
   "name": "python3"
  },
  "language_info": {
   "codemirror_mode": {
    "name": "ipython",
    "version": 3
   },
   "file_extension": ".py",
   "mimetype": "text/x-python",
   "name": "python",
   "nbconvert_exporter": "python",
   "pygments_lexer": "ipython3",
   "version": "3.7.6"
  }
 },
 "nbformat": 4,
 "nbformat_minor": 2
}
